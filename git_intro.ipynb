{
 "cells": [
  {
   "cell_type": "markdown",
   "metadata": {},
   "source": [
    "# Very simple git intro"
   ]
  },
  {
   "cell_type": "markdown",
   "metadata": {},
   "source": [
    "## Basic commands\n",
    "\n",
    "```bash\n",
    "git clone <repo>\n",
    "git status\n",
    "git log\n",
    "git commit\n",
    "git add <file>\n",
    "git rm <file>\n",
    "git diff <file>\n",
    "git push\n",
    "```"
   ]
  },
  {
   "cell_type": "code",
   "execution_count": 9,
   "metadata": {
    "collapsed": false
   },
   "outputs": [
    {
     "name": "stdout",
     "output_type": "stream",
     "text": [
      "On branch gh-pages\n",
      "Your branch is up-to-date with 'origin/gh-pages'.\n",
      "Changes not staged for commit:\n",
      "  (use \"git add <file>...\" to update what will be committed)\n",
      "  (use \"git checkout -- <file>...\" to discard changes in working directory)\n",
      "\n",
      "\tmodified:   .gitignore\n",
      "\n",
      "no changes added to commit (use \"git add\" and/or \"git commit -a\")\n"
     ]
    }
   ],
   "source": [
    "%%bash\n",
    "\n",
    "git status"
   ]
  },
  {
   "cell_type": "code",
   "execution_count": null,
   "metadata": {
    "collapsed": true
   },
   "outputs": [],
   "source": [
    "%%bash\n",
    "\n",
    "git log"
   ]
  },
  {
   "cell_type": "code",
   "execution_count": null,
   "metadata": {
    "collapsed": true
   },
   "outputs": [],
   "source": [
    "%%bash\n",
    "\n",
    "git show"
   ]
  },
  {
   "cell_type": "code",
   "execution_count": 12,
   "metadata": {
    "collapsed": true
   },
   "outputs": [],
   "source": [
    "%%bash\n",
    "\n",
    "touch foo.md\n",
    "\n",
    "git add foo.md"
   ]
  },
  {
   "cell_type": "code",
   "execution_count": 14,
   "metadata": {
    "collapsed": false
   },
   "outputs": [
    {
     "name": "stdout",
     "output_type": "stream",
     "text": [
      " M .gitignore\n",
      "A  foo.md\n"
     ]
    }
   ],
   "source": [
    "%%bash\n",
    "\n",
    "git st"
   ]
  },
  {
   "cell_type": "code",
   "execution_count": 18,
   "metadata": {
    "collapsed": false
   },
   "outputs": [
    {
     "name": "stdout",
     "output_type": "stream",
     "text": [
      "diff --git a/.gitignore b/.gitignore\n",
      "index aa8c5a7..5fc0ecc 100644\n",
      "--- a/.gitignore\n",
      "+++ b/.gitignore\n",
      "@@ -1,3 +1,6 @@\n",
      "+.gitignore\n",
      "+.ipynb_checkpoints\n",
      "+git_intro.ipynb\n",
      " _site\n",
      " .sass-cache\n",
      " *~\n"
     ]
    }
   ],
   "source": [
    "%%bash\n",
    "\n",
    "git diff .gitignore"
   ]
  },
  {
   "cell_type": "code",
   "execution_count": 21,
   "metadata": {
    "collapsed": false
   },
   "outputs": [
    {
     "name": "stdout",
     "output_type": "stream",
     "text": [
      "rm 'foo.md'\n"
     ]
    }
   ],
   "source": [
    "%%bash\n",
    "\n",
    "git rm -f foo.md"
   ]
  },
  {
   "cell_type": "code",
   "execution_count": 22,
   "metadata": {
    "collapsed": false
   },
   "outputs": [
    {
     "name": "stdout",
     "output_type": "stream",
     "text": [
      " M .gitignore\n"
     ]
    }
   ],
   "source": [
    "%%bash\n",
    "\n",
    "git st"
   ]
  },
  {
   "cell_type": "markdown",
   "metadata": {},
   "source": []
  },
  {
   "cell_type": "markdown",
   "metadata": {},
   "source": [
    "http://scitools.org.uk/iris/docs/latest/developers_guide/gitwash/git_development.html\n",
    "\n",
    "https://ocefpaf.github.io/python4oceanographers/blog/2014/12/15/gihub_foss/"
   ]
  },
  {
   "cell_type": "markdown",
   "metadata": {
    "collapsed": true
   },
   "source": [
    "## Consider using a git aware [prompt](https://github.com/jimeh/git-aware-prompt)\n",
    "\n",
    "![git_prompt](https://raw.githubusercontent.com/jimeh/git-aware-prompt/master/preview.png)"
   ]
  }
 ],
 "metadata": {
  "kernelspec": {
   "display_name": "Python 3",
   "language": "python",
   "name": "python3"
  },
  "language_info": {
   "codemirror_mode": {
    "name": "ipython",
    "version": 3
   },
   "file_extension": ".py",
   "mimetype": "text/x-python",
   "name": "python",
   "nbconvert_exporter": "python",
   "pygments_lexer": "ipython3",
   "version": "3.4.1"
  }
 },
 "nbformat": 4,
 "nbformat_minor": 0
}
